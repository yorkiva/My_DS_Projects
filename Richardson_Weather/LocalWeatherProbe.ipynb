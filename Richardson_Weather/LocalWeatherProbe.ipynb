{
 "cells": [
  {
   "cell_type": "code",
   "execution_count": 1,
   "metadata": {},
   "outputs": [
    {
     "name": "stdout",
     "output_type": "stream",
     "text": [
      "(4923, 3)\n"
     ]
    }
   ],
   "source": [
    "import pandas as pd\n",
    "from IPython.core.interactiveshell import InteractiveShell\n",
    "InteractiveShell.ast_node_interactivity = \"all\"\n",
    "\n",
    "data = pd.read_csv(\"Richarson_Weather_Data.csv\")\n",
    "#data.head()\n",
    "data = data[['DATE','TMIN', 'TMAX']]\n",
    "data.dropna(inplace=True)\n",
    "data.reset_index(drop=True, inplace=True)\n",
    "print data.shape"
   ]
  },
  {
   "cell_type": "code",
   "execution_count": 2,
   "metadata": {},
   "outputs": [
    {
     "name": "stdout",
     "output_type": "stream",
     "text": [
      "         DATE  TMIN  TMAX\n",
      "0  2007-01-01  31.0  50.0\n",
      "1  2007-01-02  29.0  53.0\n",
      "2  2007-01-03  29.0  54.0\n",
      "3  2007-01-04  44.0  57.0\n",
      "4  2007-01-05  47.0  68.0\n"
     ]
    },
    {
     "data": {
      "text/plain": [
       "(406, 3)"
      ]
     },
     "execution_count": 2,
     "metadata": {},
     "output_type": "execute_result"
    }
   ],
   "source": [
    "## Slice dataset in according to months\n",
    "\n",
    "def apply_MonthSlicing(date, monthstring):\n",
    "    if date.strip().split(\"-\")[1] == monthstring:\n",
    "        return True\n",
    "    else:\n",
    "        return False\n",
    "\n",
    "MonthData_Dict = {}\n",
    "months = range(1,13)\n",
    "for month in months:\n",
    "    MonthData_Dict[month] = data[data['DATE'].apply(apply_MonthSlicing, monthstring=str(month).zfill(2))]\n",
    "    MonthData_Dict[month].reset_index(drop=True, inplace=True)\n",
    "print MonthData_Dict[1].head()\n",
    "MonthData_Dict[12].shape"
   ]
  },
  {
   "cell_type": "code",
   "execution_count": 8,
   "metadata": {},
   "outputs": [
    {
     "name": "stdout",
     "output_type": "stream",
     "text": [
      "            DATE  TMIN  TMAX    AV_TMAX    AV_TMIN\n",
      "4918  2019-12-08  48.0  68.0  76.649522  56.639561\n",
      "4919  2019-12-09  37.0  67.0  76.647561  56.635569\n",
      "4920  2019-12-11  29.0  52.0  76.642552  56.629953\n",
      "4921  2019-12-12  36.0  55.0  76.638155  56.625762\n",
      "4922  2019-12-29  35.0  55.0  76.633760  56.621369\n"
     ]
    },
    {
     "name": "stderr",
     "output_type": "stream",
     "text": [
      "/home/avik/Software/AnaConda2/lib/python2.7/site-packages/ipykernel_launcher.py:10: SettingWithCopyWarning: \n",
      "A value is trying to be set on a copy of a slice from a DataFrame.\n",
      "Try using .loc[row_indexer,col_indexer] = value instead\n",
      "\n",
      "See the caveats in the documentation: http://pandas.pydata.org/pandas-docs/stable/indexing.html#indexing-view-versus-copy\n",
      "  # Remove the CWD from sys.path while we load stuff.\n",
      "/home/avik/Software/AnaConda2/lib/python2.7/site-packages/ipykernel_launcher.py:11: SettingWithCopyWarning: \n",
      "A value is trying to be set on a copy of a slice from a DataFrame.\n",
      "Try using .loc[row_indexer,col_indexer] = value instead\n",
      "\n",
      "See the caveats in the documentation: http://pandas.pydata.org/pandas-docs/stable/indexing.html#indexing-view-versus-copy\n",
      "  # This is added back by InteractiveShellApp.init_path()\n"
     ]
    },
    {
     "name": "stdout",
     "output_type": "stream",
     "text": [
      "           DATE  TMIN  TMAX    AV_TMAX    AV_TMIN\n",
      "386  2018-12-19  50.0  61.0  57.093023  37.366925\n",
      "387  2018-12-20  45.0  59.0  57.097938  37.386598\n",
      "388  2018-12-21  37.0  58.0  57.100257  37.385604\n",
      "389  2018-12-22  42.0  65.0  57.120513  37.397436\n",
      "390  2018-12-23  38.0  56.0  57.117647  37.398977\n",
      "391  2018-12-24  33.0  60.0  57.125000  37.387755\n",
      "392  2018-12-25  54.0  63.0  57.139949  37.430025\n",
      "393  2018-12-26  53.0  65.0  57.159898  37.469543\n",
      "394  2018-12-27  38.0  63.0  57.174684  37.470886\n",
      "395  2018-12-28  32.0  46.0  57.146465  37.457071\n",
      "396  2018-12-29  34.0  41.0  57.105793  37.448363\n",
      "397  2018-12-30  33.0  39.0  57.060302  37.437186\n",
      "398  2018-12-31  39.0  60.0  57.067669  37.441103\n",
      "399  2019-12-04  40.0  68.0  57.095000  37.447500\n",
      "400  2019-12-05  49.0  71.0  57.129676  37.476309\n",
      "401  2019-12-08  48.0  68.0  57.156716  37.502488\n",
      "402  2019-12-09  37.0  67.0  57.181141  37.501241\n",
      "403  2019-12-11  29.0  52.0  57.168317  37.480198\n",
      "404  2019-12-12  36.0  55.0  57.162963  37.476543\n",
      "405  2019-12-29  35.0  55.0  57.157635  37.470443\n"
     ]
    }
   ],
   "source": [
    "## Adding moving average of TMAX and TMIN in the original and month-sliced dataframes\n",
    "## We are allowing averages of atleast 30 entries or more\n",
    "\n",
    "\n",
    "data[\"AV_TMAX\"] = data[\"TMAX\"].expanding(min_periods = 30).mean()\n",
    "data[\"AV_TMIN\"] = data[\"TMIN\"].expanding(min_periods = 30).mean()\n",
    "print data.tail(5)\n",
    "\n",
    "for month in months:\n",
    "    MonthData_Dict[month][\"AV_TMAX\"] = MonthData_Dict[month][\"TMAX\"].expanding(min_periods = 30).mean()\n",
    "    MonthData_Dict[month][\"AV_TMIN\"] = MonthData_Dict[month][\"TMIN\"].expanding(min_periods = 30).mean()\n",
    "\n",
    "print MonthData_Dict[12].tail(20)"
   ]
  },
  {
   "cell_type": "code",
   "execution_count": 13,
   "metadata": {},
   "outputs": [
    {
     "name": "stdout",
     "output_type": "stream",
     "text": [
      "['2006-12-01', '2007-12-10', '2008-12-19', '2009-12-28', '2011-12-06', '2012-12-17', '2013-12-26', '2015-12-05', '2016-12-14', '2017-12-23', '2019-12-05']\n"
     ]
    },
    {
     "data": {
      "text/plain": [
       "[<matplotlib.lines.Line2D at 0x7f8e8599d450>]"
      ]
     },
     "execution_count": 13,
     "metadata": {},
     "output_type": "execute_result"
    },
    {
     "data": {
      "text/plain": [
       "[<matplotlib.lines.Line2D at 0x7f8e85934c90>]"
      ]
     },
     "execution_count": 13,
     "metadata": {},
     "output_type": "execute_result"
    },
    {
     "data": {
      "text/plain": [
       "([<matplotlib.axis.XTick at 0x7f8e858b5e50>,\n",
       "  <matplotlib.axis.XTick at 0x7f8e858b5910>,\n",
       "  <matplotlib.axis.XTick at 0x7f8e858b5610>,\n",
       "  <matplotlib.axis.XTick at 0x7f8e859c5090>,\n",
       "  <matplotlib.axis.XTick at 0x7f8e859c55d0>,\n",
       "  <matplotlib.axis.XTick at 0x7f8e859c5ad0>,\n",
       "  <matplotlib.axis.XTick at 0x7f8e858cd050>,\n",
       "  <matplotlib.axis.XTick at 0x7f8e858cd590>,\n",
       "  <matplotlib.axis.XTick at 0x7f8e859c5790>,\n",
       "  <matplotlib.axis.XTick at 0x7f8e858cd290>,\n",
       "  <matplotlib.axis.XTick at 0x7f8e858cddd0>],\n",
       " <a list of 11 Text xticklabel objects>)"
      ]
     },
     "execution_count": 13,
     "metadata": {},
     "output_type": "execute_result"
    },
    {
     "data": {
      "image/png": "[encoded data removed]",
      "text/plain": [
       "<Figure size 432x288 with 1 Axes>"
      ]
     },
     "metadata": {
      "needs_background": "light"
     },
     "output_type": "display_data"
    }
   ],
   "source": [
    "## Now Let's make some plots! How does the moving average of December's TMAX and TMIN look like\n",
    "\n",
    "from matplotlib import pyplot as plt\n",
    "\n",
    "xticks = MonthData_Dict[12][MonthData_Dict[12].index % 40 == 0][\"DATE\"]\n",
    "print list(xticks)\n",
    "plt.plot(MonthData_Dict[12][\"DATE\"], MonthData_Dict[12][\"AV_TMIN\"], label=\"T_min\")\n",
    "plt.plot(MonthData_Dict[12][\"DATE\"], MonthData_Dict[12][\"AV_TMAX\"], label=\"T_max\")\n",
    "plt.xticks(list(xticks), rotation = 90)\n",
    "plt.show()"
   ]
  },
  {
   "cell_type": "code",
   "execution_count": 21,
   "metadata": {},
   "outputs": [
    {
     "name": "stdout",
     "output_type": "stream",
     "text": [
      "[2006, 2007, 2008, 2009, 2010, 2011, 2012, 2013, 2014, 2015, 2016, 2017, 2018, 2019]\n",
      "[39.193548387096776, 36.12903225806452, 34.16129032258063, 32.70967741935483, 37.87096774193548, 38.25806451612903, 38.93103448275862, 30.666666666666668, 42.225806451612904, 41.29032258064517, 38.61290322580645, 37.45161290322581, 39.166666666666664, 39.142857142857146]\n",
      "[58.935483870967744, 58.25806451612903, 57.935483870967744, 50.45161290322581, 58.32258064516129, 55.67741935483871, 59.44827586206897, 53.3, 56.516129032258064, 62.774193548387096, 57.483870967741936, 56.54838709677419, 56.233333333333334, 62.285714285714285]\n"
     ]
    },
    {
     "data": {
      "text/plain": [
       "[<matplotlib.lines.Line2D at 0x7f8e85a4a450>]"
      ]
     },
     "execution_count": 21,
     "metadata": {},
     "output_type": "execute_result"
    },
    {
     "data": {
      "text/plain": [
       "[<matplotlib.lines.Line2D at 0x7f8e858fd210>]"
      ]
     },
     "execution_count": 21,
     "metadata": {},
     "output_type": "execute_result"
    },
    {
     "data": {
      "image/png": "[encoded data removed]",
      "text/plain": [
       "<Figure size 432x288 with 1 Axes>"
      ]
     },
     "metadata": {
      "needs_background": "light"
     },
     "output_type": "display_data"
    }
   ],
   "source": [
    "## Now Let's make plots of average December TMAX and TMIN as a function of year\n",
    "\n",
    "Years = []\n",
    "Av_TMin = []\n",
    "Av_TMax = []\n",
    "N_Entries = []\n",
    "\n",
    "for ii in range(MonthData_Dict[12].shape[0]):\n",
    "    this_year = int(MonthData_Dict[12].iloc[ii][\"DATE\"][0:4])\n",
    "    if this_year not in Years: \n",
    "        Years.append(this_year)\n",
    "        Av_TMin.append(0.)\n",
    "        Av_TMax.append(0.)\n",
    "        N_Entries.append(0)\n",
    "    index = Years.index(this_year)\n",
    "    N_Entries[index] += 1\n",
    "    Av_TMin[index] = ( Av_TMin[index]*(N_Entries[index] - 1) + MonthData_Dict[12].iloc[ii][\"TMIN\"] ) / N_Entries[index]\n",
    "    Av_TMax[index] = ( Av_TMax[index]*(N_Entries[index] - 1) + MonthData_Dict[12].iloc[ii][\"TMAX\"] ) / N_Entries[index]\n",
    "\n",
    "print Years\n",
    "print Av_TMin\n",
    "print Av_TMax\n",
    "\n",
    "plt.plot(Years, Av_TMin, label=\"T_Min\")\n",
    "plt.plot(Years, Av_TMax, label=\"T_Max\")\n",
    "\n",
    "plt.show()\n"
   ]
  }
 ],
 "metadata": {
  "kernelspec": {
   "display_name": "Python 2",
   "language": "python",
   "name": "python2"
  },
  "language_info": {
   "codemirror_mode": {
    "name": "ipython",
    "version": 2
   },
   "file_extension": ".py",
   "mimetype": "text/x-python",
   "name": "python",
   "nbconvert_exporter": "python",
   "pygments_lexer": "ipython2",
   "version": "2.7.16"
  }
 },
 "nbformat": 4,
 "nbformat_minor": 2
}
